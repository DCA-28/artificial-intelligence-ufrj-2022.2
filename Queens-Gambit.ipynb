{
 "cells": [
  {
   "cell_type": "code",
   "execution_count": 58,
   "metadata": {},
   "outputs": [],
   "source": [
    "import time\n",
    "import matplotlib.pyplot as plt\n",
    "import numpy as np\n",
    "\n",
    "from copy import copy\n",
    "from random import choice, randint\n",
    "\n",
    "\n",
    "# Constantes \n",
    "QUEEN_INDENTIFIER = 22\n",
    "NUMBER_OF_QUEENS = 4\n",
    "NUMBER_OF_BOARDS = 10\n",
    "MOCK_INPUT = [NUMBER_OF_QUEENS, NUMBER_OF_BOARDS]"
   ]
  },
  {
   "cell_type": "markdown",
   "metadata": {},
   "source": [
    "### Definição de funções utilitárias para o movimento das rainhas"
   ]
  },
  {
   "cell_type": "code",
   "execution_count": 60,
   "metadata": {},
   "outputs": [],
   "source": [
    "def horizontal_attack(first_position: tuple[int, int], second_position: tuple[int, int]) -> bool:\n",
    "    \"\"\"\n",
    "    Verifies if first_position's queen can attack the second_position's queen by comparing\n",
    "    it's line coordinate (first tuple coordinate).\n",
    "    \"\"\"\n",
    "    return first_position[0] == second_position[0]\n",
    "\n",
    "def diagonal_attack(first_position: tuple[int, int], second_position: tuple[int, int]) -> bool:\n",
    "    \"\"\"\n",
    "    Verifies if first_position's queen can attack the second_position's queen by comparing\n",
    "    it's diagonal coordinates. The absolute value of the coordinates difference must be the\n",
    "    same.\n",
    "    \"\"\"\n",
    "    return abs(first_position[0] - second_position[0]) == abs(first_position[1] - second_position[1])"
   ]
  },
  {
   "cell_type": "markdown",
   "metadata": {},
   "source": [
    "### Definição da principal classe do projeto 'Board'\n",
    "\n",
    "#### Esta classe implementa a criação do tabuleiro jogo, com as damas sendo aleatoriamente posicionadas. "
   ]
  },
  {
   "cell_type": "code",
   "execution_count": 61,
   "metadata": {},
   "outputs": [],
   "source": [
    "class Board:\n",
    "    def __init__(self, N, game_board=None) -> None:\n",
    "        self.first_coordinate = N\n",
    "        self.second_coordinate = N\n",
    "        if game_board is None:\n",
    "            self.game_board = self.builder()\n",
    "            self.queens_generator()\n",
    "        else:\n",
    "            self.game_board = game_board\n",
    "        self.heuristic_value = None\n",
    "\n",
    "    def builder(self) -> np.array:\n",
    "        game_board = np.zeros((self.first_coordinate, self.second_coordinate))\n",
    "        game_board[1::2, 0::2] = 1\n",
    "        game_board[0::2, 1::2] = 1\n",
    "        return game_board\n",
    "\n",
    "    def queens_generator(self) -> None:\n",
    "        for j in range(len(self.game_board)):\n",
    "            queens_row = randint(0, len(self.game_board) - 1)\n",
    "            queens_column = j\n",
    "            self.game_board[\n",
    "                queens_row, queens_column\n",
    "            ] = QUEEN_INDENTIFIER  # this integer number gives the distinct color\n",
    "\n",
    "    def queens_attacks(self) -> int:\n",
    "        queens_positions = np.argwhere(self.game_board == QUEEN_INDENTIFIER).tolist()\n",
    "        queens_positions = sorted(queens_positions, key=lambda position: position[1])\n",
    "\n",
    "        number_of_attacks = 0\n",
    "\n",
    "        for i in range(len(queens_positions) - 1):\n",
    "            for j in range(i + 1, len(queens_positions)):\n",
    "                if horizontal_attack(\n",
    "                    queens_positions[i], queens_positions[j]\n",
    "                ) or diagonal_attack(queens_positions[i], queens_positions[j]):\n",
    "                    number_of_attacks += 1\n",
    "\n",
    "        # print(f\"Numero de ataques nesse tabuleiro {number_of_attacks}\")\n",
    "        self.heuristic_value = -1 * number_of_attacks\n",
    "\n",
    "        return number_of_attacks\n",
    "\n",
    "    def all_neighbors(self) -> list['Board']:\n",
    "        queens_positions = np.argwhere(self.game_board == QUEEN_INDENTIFIER).tolist()\n",
    "        queens_positions = sorted(queens_positions, key=lambda position: position[1])\n",
    "\n",
    "        neighbors = []\n",
    "\n",
    "        for position in queens_positions:\n",
    "            original_row, original_column = position[0], position[1]\n",
    "            available_rows = [\n",
    "                i for i in range(self.first_coordinate) if i != original_row\n",
    "            ]\n",
    "\n",
    "            for row in available_rows:\n",
    "                new_game_board = copy(self.game_board)\n",
    "                new_game_board[original_row, original_column] = 0\n",
    "                new_game_board[row, original_column] = QUEEN_INDENTIFIER\n",
    "\n",
    "                neighbors.append(Board(self.first_coordinate, new_game_board))\n",
    "\n",
    "        return neighbors\n",
    "\n",
    "    def any_neighbor(self) -> 'Board':\n",
    "        queens_positions = np.argwhere(self.game_board == QUEEN_INDENTIFIER).tolist()\n",
    "        queens_positions = sorted(queens_positions, key=lambda position: position[1])\n",
    "\n",
    "        # Escolhendo aleatoriamente a rainha que ira mudar de lugar\n",
    "        any_position = choice(queens_positions)\n",
    "\n",
    "        original_row, original_column = any_position[0], any_position[1]\n",
    "        available_rows = [i for i in range(self.first_coordinate) if i != original_row]\n",
    "\n",
    "        # Escolhendo aleatoriamente para qual linha a rainha ira\n",
    "        any_row = choice(available_rows)\n",
    "\n",
    "        # Gerando o vizinho com as informacoes anteriores\n",
    "        new_game_board = copy(self.game_board)\n",
    "        new_game_board[original_row, original_column] = 0\n",
    "        new_game_board[any_row, original_column] = QUEEN_INDENTIFIER\n",
    "\n",
    "        return Board(self.first_coordinate, new_game_board)\n",
    "\n",
    "    def __str__(self):\n",
    "        return f\"\\nHeuristic: {self.heuristic_value}\\n{str(self.game_board)}\\n\"\n",
    "\n",
    "    def __repr__(self):\n",
    "        size = self.first_coordinate\n",
    "        return f\"Board({size},{size})\"\n"
   ]
  },
  {
   "cell_type": "markdown",
   "metadata": {},
   "source": [
    "### Definição da função que gera todos os vizinhos de um dado tabuleiro"
   ]
  },
  {
   "cell_type": "code",
   "execution_count": 62,
   "metadata": {},
   "outputs": [],
   "source": [
    "def all_neighbors(board: Board) -> NotImplemented:\n",
    "    queens_positions = np.argwhere(board.game_board == QUEEN_INDENTIFIER).tolist()\n",
    "    queens_positions = sorted(queens_positions, key=lambda position: position[1])\n",
    "\n",
    "    neighbors = []\n",
    "\n",
    "    for position in queens_positions:\n",
    "        current_row = position[0]\n",
    "        available_rows = [i for i in range(board.first_coordinate) if i != current_row]\n",
    "\n",
    "        for row in available_rows:\n",
    "            new_board = board.game_board\n",
    "            new_board[position[0], position[1]] = 0\n",
    "            new_board[row, position[1]] = QUEEN_INDENTIFIER\n",
    "\n",
    "            neighbors.append(new_board)\n",
    "\n",
    "    return neighbors\n"
   ]
  },
  {
   "cell_type": "markdown",
   "metadata": {},
   "source": [
    "### Definição da função 'tabuleiro' "
   ]
  },
  {
   "cell_type": "code",
   "execution_count": 63,
   "metadata": {},
   "outputs": [],
   "source": [
    "def tabuleiro(N: int, Q: int) -> list[Board]:\n",
    "    \"\"\"\n",
    "    Retorna Q tabuleiros, cada um com N rainhas.\n",
    "    \"\"\"\n",
    "    all_boards = []\n",
    "    for _ in range(Q):\n",
    "        board = Board(N)\n",
    "        board.queens_generator()\n",
    "        all_boards.append(board)\n",
    "    return all_boards\n"
   ]
  },
  {
   "cell_type": "markdown",
   "metadata": {},
   "source": [
    "### Definição da função 'umVizinho' "
   ]
  },
  {
   "cell_type": "code",
   "execution_count": 64,
   "metadata": {},
   "outputs": [],
   "source": [
    "def um_vizinho(board: Board) -> Board:\n",
    "    \"\"\"\n",
    "    Retorna um vizinho aleatorio do tabuleiro.\n",
    "    \"\"\"\n",
    "    return board.any_neighbor()\n"
   ]
  },
  {
   "cell_type": "markdown",
   "metadata": {},
   "source": [
    "### Definição da função 'todosVizinhos'"
   ]
  },
  {
   "cell_type": "code",
   "execution_count": 65,
   "metadata": {},
   "outputs": [],
   "source": [
    "def todos_vizinhos(board: Board) -> list[Board]:\n",
    "    \"\"\"\n",
    "    Dado um tabuleiro qualquer, retorna todos os seus vizinhos.\n",
    "    \"\"\"\n",
    "    return board.all_neighbors()\n"
   ]
  },
  {
   "cell_type": "markdown",
   "metadata": {},
   "source": [
    "### Definindo função adicional 'vizualiza todos vizinhos'"
   ]
  },
  {
   "cell_type": "code",
   "execution_count": 66,
   "metadata": {},
   "outputs": [],
   "source": [
    "def vizualiza_todos_vizinhos(neighbors: list[Board]):\n",
    "    \"\"\"\n",
    "    Funcao adicional para auxiliar na visualizacao de todos os vizinhos\n",
    "    de um determinado tabuleiro. As variaveis estao inicialmente setadas\n",
    "    para montar a visualizacao de 12 vizinhos.\n",
    "    \"\"\"\n",
    "\n",
    "    fig = plt.figure(figsize=(15, 6))\n",
    "    rows = 2\n",
    "    columns = 6\n",
    "    for i in range(1, len(neighbors) + 1):\n",
    "        board = neighbors[i - 1]\n",
    "        fig.add_subplot(rows, columns, i)\n",
    "        plt.imshow(board.game_board)\n",
    "        plt.axis(\"off\")\n",
    "        plt.title(f\"Ataques: {board.queens_attacks()}\")\n"
   ]
  },
  {
   "cell_type": "code",
   "execution_count": 67,
   "metadata": {},
   "outputs": [],
   "source": [
    "def main():\n",
    "    number_of_queens, number_of_boards = MOCK_INPUT\n",
    "    generated_boards = tabuleiro(number_of_queens, number_of_boards)\n",
    "\n",
    "    board = choice(generated_boards)\n",
    "    neighbors = todos_vizinhos(board)\n",
    "    #vizualiza_todos_vizinhos(neighbors)\n",
    "\n",
    "    # board.queens_generator()\n",
    "    # board.queens_attacks()\n",
    "    # neighbors = board.all_neighbors()\n",
    "\n",
    "\n",
    "if __name__ == \"__main__\":\n",
    "    main()\n"
   ]
  },
  {
   "cell_type": "code",
   "execution_count": 13,
   "metadata": {},
   "outputs": [],
   "source": [
    "# Testando a busca do melhor valor heuristico\n",
    "number_of_queens, number_of_boards = MOCK_INPUT\n",
    "generated_boards = tabuleiro(number_of_queens, number_of_boards)\n",
    "\n",
    "board = choice(generated_boards)\n",
    "\n",
    "neighbors = todos_vizinhos(board)\n",
    "\n",
    "# More Pythonic way to write this?\n",
    "for board in neighbors:\n",
    "    board.queens_attacks()\n",
    "\n",
    "best_board = max(neighbors, key=lambda board: board.heuristic_value)\n",
    "best_heuristic_value = best_board.heuristic_value\n",
    "\n",
    "get_best_heuristic = lambda board: board.heuristic_value == best_heuristic_value\n",
    "best_neighbors = list(filter(get_best_heuristic, neighbors))\n",
    "the_best_neighbor = choice(best_neighbors)\n"
   ]
  },
  {
   "cell_type": "code",
   "execution_count": 69,
   "metadata": {},
   "outputs": [
    {
     "data": {
      "text/plain": [
       "0"
      ]
     },
     "execution_count": 69,
     "metadata": {},
     "output_type": "execute_result"
    }
   ],
   "source": [
    "# Hill Climb's best choice\n",
    "\n",
    "number_of_queens, number_of_boards = MOCK_INPUT\n",
    "generated_boards = tabuleiro(number_of_queens, number_of_boards)\n",
    "\n",
    "board = choice(generated_boards)\n",
    "board.queens_attacks()\n",
    "\n",
    "SAME_BOARD = copy(board)\n",
    "\n",
    "def hill_climbing_best_choice(board: Board) -> Board:\n",
    "    \n",
    "    best_heuristic_value = board.heuristic_value\n",
    "    #print(f\"Initial best heuristic value: {best_heuristic_value}\")\n",
    "\n",
    "    total_searchs = 0\n",
    "\n",
    "    while True:\n",
    "        total_searchs += 1\n",
    "        neighbors = todos_vizinhos(board)\n",
    "\n",
    "    # Calculating the number of attacks in each board to generate each heuristic value\n",
    "        for board in neighbors:\n",
    "            board.queens_attacks()\n",
    "\n",
    "        best_board = max(neighbors, key= lambda board: board.heuristic_value)\n",
    "        new_heuristic_value = best_board.heuristic_value\n",
    "\n",
    "        if new_heuristic_value <= best_heuristic_value:\n",
    "            break\n",
    "\n",
    "        best_heuristic_value = new_heuristic_value\n",
    "\n",
    "        get_best_heuristic = lambda board: board.heuristic_value == best_heuristic_value\n",
    "        best_neighbors = list(filter(get_best_heuristic, neighbors))\n",
    "        the_best_neighbor = choice(best_neighbors)\n",
    "\n",
    "        board = the_best_neighbor\n",
    "\n",
    "    # O ultimo valor instanciado em board indicia o tabuleiro com a primeira pior heurisitica que causou o break\n",
    "\n",
    "    #print(f\"Final best heuristic value: {best_heuristic_value} \\nIterations: {total_searchs}\")\n",
    "\n",
    "    return best_heuristic_value\n",
    "\n",
    "hill_climbing_best_choice(board)"
   ]
  },
  {
   "cell_type": "code",
   "execution_count": 68,
   "metadata": {},
   "outputs": [
    {
     "name": "stdout",
     "output_type": "stream",
     "text": [
      "Initial best heuristic value: -9\n",
      "Final best heuristic value: 0 \n",
      "Iterations: 58\n"
     ]
    }
   ],
   "source": [
    "# Hill Climb's first choice\n",
    "\n",
    "# Nessa versao o melhor vizinho pode ser eventualmente encontrado, \n",
    "# porem sem o beneficio da analise previa de todos os vizinhos\n",
    "\n",
    "def hill_climbing_first_choice(board: Board) -> Board:\n",
    "    \n",
    "    best_heuristic_value = board.heuristic_value\n",
    "    print(f\"Initial best heuristic value: {best_heuristic_value}\")\n",
    "\n",
    "    searchs, total_searchs = 0, 0\n",
    "    search_range = 5 * board.first_coordinate\n",
    "\n",
    "    while searchs != search_range:\n",
    "        total_searchs += 1\n",
    "        neighbor = um_vizinho(board)\n",
    "\n",
    "        # Calculating the number of attacks in the neighbor board to generate the heuristic value\n",
    "        neighbor.queens_attacks()\n",
    "\n",
    "        new_heuristic_value = neighbor.heuristic_value\n",
    "\n",
    "        if new_heuristic_value <= best_heuristic_value:\n",
    "            searchs += 1\n",
    "            continue\n",
    "\n",
    "        best_heuristic_value = new_heuristic_value\n",
    "        board = neighbor\n",
    "\n",
    "        searchs = 0\n",
    "\n",
    "    print(f\"Final best heuristic value: {best_heuristic_value} \\nIterations: {total_searchs}\")\n",
    "\n",
    "hill_climbing_first_choice(SAME_BOARD)"
   ]
  },
  {
   "cell_type": "markdown",
   "metadata": {},
   "source": [
    "### Calculo do tempo de busca da solucao com hill_climbing_best_choice"
   ]
  },
  {
   "cell_type": "code",
   "execution_count": 70,
   "metadata": {},
   "outputs": [
    {
     "name": "stdout",
     "output_type": "stream",
     "text": [
      "Tempo medio para 1 execucoes: 0.009610652923583984\n"
     ]
    }
   ],
   "source": [
    "EXECUTIONS = 1\n",
    "total_time = 0\n",
    "\n",
    "for i in range(EXECUTIONS):\n",
    "    while True:\n",
    "        number_of_queens, number_of_boards = MOCK_INPUT\n",
    "        generated_boards = tabuleiro(number_of_queens, number_of_boards)\n",
    "\n",
    "        board = choice(generated_boards)\n",
    "        board.queens_attacks()\n",
    "        \n",
    "        start_time = time.time()\n",
    "\n",
    "        result = hill_climbing_best_choice(board)\n",
    "\n",
    "        end_time = time.time()\n",
    "\n",
    "        total_time += (end_time - start_time) \n",
    "\n",
    "        if result == 0:\n",
    "            break\n",
    "\n",
    "print(f\"Tempo medio para {EXECUTIONS} execucoes: {total_time / EXECUTIONS}\")"
   ]
  },
  {
   "cell_type": "markdown",
   "metadata": {},
   "source": [
    "### Geração do gráfico para única execução do hill_climbing_best_choice"
   ]
  },
  {
   "cell_type": "code",
   "execution_count": 71,
   "metadata": {},
   "outputs": [
    {
     "data": {
      "text/plain": [
       "[<matplotlib.lines.Line2D at 0x1e2cb43d4e0>]"
      ]
     },
     "metadata": {},
     "output_type": "display_data"
    },
    {
     "data": {
      "image/png": "[encoded data removed]",
      "text/plain": [
       "<Figure size 432x288 with 1 Axes>"
      ]
     },
     "metadata": {
      "needs_background": "light"
     },
     "output_type": "display_data"
    }
   ],
   "source": [
    "# Hill Climb's best choice\n",
    "\n",
    "number_of_queens, number_of_boards = MOCK_INPUT\n",
    "generated_boards = tabuleiro(number_of_queens, number_of_boards)\n",
    "\n",
    "board = choice(generated_boards)\n",
    "board.queens_attacks()\n",
    "\n",
    "def hill_climbing_best_choice(board: Board) -> Board:\n",
    "    \n",
    "    best_heuristic_value = board.heuristic_value\n",
    "    total_searchs = 0\n",
    "    heuristic_values = [best_heuristic_value]\n",
    "\n",
    "    while True:\n",
    "        total_searchs += 1\n",
    "        neighbors = todos_vizinhos(board)\n",
    "\n",
    "    # Calculating the number of attacks in each board to generate each heuristic value\n",
    "        for board in neighbors:\n",
    "            board.queens_attacks()\n",
    "\n",
    "        best_board = max(neighbors, key= lambda board: board.heuristic_value)\n",
    "        new_heuristic_value = best_board.heuristic_value\n",
    "        heuristic_values.append(new_heuristic_value)\n",
    "\n",
    "        if new_heuristic_value <= best_heuristic_value:\n",
    "            break\n",
    "\n",
    "        best_heuristic_value = new_heuristic_value\n",
    "\n",
    "        get_best_heuristic = lambda board: board.heuristic_value == best_heuristic_value\n",
    "        best_neighbors = list(filter(get_best_heuristic, neighbors))\n",
    "        the_best_neighbor = choice(best_neighbors)\n",
    "\n",
    "        board = the_best_neighbor\n",
    "\n",
    "    return heuristic_values\n",
    "\n",
    "evolution_of_values = hill_climbing_best_choice(board)\n",
    "iterations = [i+1 for i in range(len(evolution_of_values))]\n",
    "\n",
    "plt.xlabel('Iteracoes')\n",
    "plt.ylabel('Valores de Heuristica')\n",
    "display(plt.plot(iterations, evolution_of_values, 'ro'))\n"
   ]
  },
  {
   "cell_type": "markdown",
   "metadata": {},
   "source": [
    "### Calculo do tempo de busca da solucao com hill_climbing_first_choice"
   ]
  },
  {
   "cell_type": "markdown",
   "metadata": {},
   "source": [
    "### OBS: GERAR UMA FUNCAO NUMEROATAQUES QUE CHAMA QUEENS_ATACKS"
   ]
  }
 ],
 "metadata": {
  "kernelspec": {
   "display_name": "Python 3.10.0 64-bit",
   "language": "python",
   "name": "python3"
  },
  "language_info": {
   "codemirror_mode": {
    "name": "ipython",
    "version": 3
   },
   "file_extension": ".py",
   "mimetype": "text/x-python",
   "name": "python",
   "nbconvert_exporter": "python",
   "pygments_lexer": "ipython3",
   "version": "3.10.0"
  },
  "orig_nbformat": 4,
  "vscode": {
   "interpreter": {
    "hash": "0f2f6c680cf484319d387fabac80ca4ff4fc33965036e02100b3fe02600f1423"
   }
  }
 },
 "nbformat": 4,
 "nbformat_minor": 2
}
