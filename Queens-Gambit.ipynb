{
 "cells": [
  {
   "cell_type": "code",
   "execution_count": 2,
   "metadata": {},
   "outputs": [
    {
     "data": {
      "image/png": "[encoded data removed]",
      "text/plain": [
       "<Figure size 432x288 with 1 Axes>"
      ]
     },
     "metadata": {
      "needs_background": "light"
     },
     "output_type": "display_data"
    }
   ],
   "source": [
    "import numpy as np\n",
    "import matplotlib.pyplot as plt\n",
    "from random import randint \n",
    "\n",
    "class Board():\n",
    "    def __init__(self,N: int) -> None:\n",
    "        self.first_coordinate = N\n",
    "        self.second_coordinate = N\n",
    "        self.game_board = None\n",
    "\n",
    "    def builder(self) -> np.array:\n",
    "        self.game_board = np.zeros((self.first_coordinate, self.second_coordinate))\n",
    "        self.game_board[1::2, 0::2] = 1\n",
    "        self.game_board[0::2, 1::2] = 1\n",
    "        \n",
    "        return self.game_board\n",
    "\n",
    "    def queens_generator(self, board: np.array) -> np.array:\n",
    "        for j in range(len(board)):\n",
    "            queens_row = randint(0, len(board) - 1)\n",
    "            queens_column = j\n",
    "            board[queens_row, queens_column] = 22 # this integer number gives the red color\n",
    "\n",
    "        plt.imshow(board, cmap='binary')\n",
    "        \n",
    "        return board\n",
    "            \n",
    "def main():\n",
    "    sizes = [int(element) for element in input(\"Enter the board's size: \").split()]\n",
    "    board = Board(sizes[0])\n",
    "    game_board = board.builder()\n",
    "\n",
    "    boards = []\n",
    "\n",
    "    for _ in range(1):\n",
    "        board_with_queens = board.queens_generator(game_board)\n",
    "        boards.append(board_with_queens)\n",
    "    \n",
    "\n",
    "if __name__ == '__main__':\n",
    "    main()"
   ]
  }
 ],
 "metadata": {
  "kernelspec": {
   "display_name": "Python 3.10.0 64-bit",
   "language": "python",
   "name": "python3"
  },
  "language_info": {
   "codemirror_mode": {
    "name": "ipython",
    "version": 3
   },
   "file_extension": ".py",
   "mimetype": "text/x-python",
   "name": "python",
   "nbconvert_exporter": "python",
   "pygments_lexer": "ipython3",
   "version": "3.10.0"
  },
  "orig_nbformat": 4,
  "vscode": {
   "interpreter": {
    "hash": "0f2f6c680cf484319d387fabac80ca4ff4fc33965036e02100b3fe02600f1423"
   }
  }
 },
 "nbformat": 4,
 "nbformat_minor": 2
}
