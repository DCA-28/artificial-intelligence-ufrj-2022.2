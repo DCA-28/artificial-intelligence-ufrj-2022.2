{
 "cells": [
  {
   "cell_type": "markdown",
   "metadata": {},
   "source": [
    "### Definição de funções utilitárias para o movimento das rainhas"
   ]
  },
  {
   "cell_type": "code",
   "execution_count": 6,
   "metadata": {},
   "outputs": [],
   "source": [
    "QUEEN_INDENTIFIER = 22\n",
    "\n",
    "def horizontal_attack(first_position: tuple[int, int], second_position: tuple[int, int]):\n",
    "    \"\"\"\n",
    "    Verifies if first_position's queen can attack the second_position's queen by comparing\n",
    "    it's line coordinate (first tuple coordinate).\n",
    "    \"\"\"\n",
    "\n",
    "    if first_position[0] == second_position[0]:\n",
    "        return True\n",
    "\n",
    "    return False\n",
    "\n",
    "def diagonal_attack(first_position: tuple[int, int], second_position: tuple[int, int]):\n",
    "    \"\"\"\n",
    "    Verifies if first_position's queen can attack the second_position's queen by comparing\n",
    "    it's diagonal coordinates. The absolute value of the coordinates difference must be the\n",
    "    same.\n",
    "    \"\"\"\n",
    "\n",
    "    if abs(first_position[0] - second_position[0]) == abs(first_position[1] - second_position[1]):\n",
    "        return True\n",
    "\n",
    "    return False"
   ]
  },
  {
   "cell_type": "markdown",
   "metadata": {},
   "source": [
    "### Definição da principal classe do projeto 'Board'\n",
    "\n",
    "#### Esta classe implementa a criação do tabuleiro jogo, com as damas sendo aleatoriamente posicionadas. "
   ]
  },
  {
   "cell_type": "code",
   "execution_count": 7,
   "metadata": {},
   "outputs": [
    {
     "data": {
      "image/png": "[encoded data removed]",
      "text/plain": [
       "<Figure size 432x288 with 1 Axes>"
      ]
     },
     "metadata": {
      "needs_background": "light"
     },
     "output_type": "display_data"
    }
   ],
   "source": [
    "from matplotlib.style import available\n",
    "import numpy as np\n",
    "import matplotlib.pyplot as plt\n",
    "from random import randint, choice\n",
    "from typing import Tuple\n",
    "from copy import copy\n",
    "\n",
    "QUEEN_INDENTIFIER = 22\n",
    "\n",
    "class Board():\n",
    "    def __init__(self, N, game_board=None) -> None:\n",
    "        self.board_size = N\n",
    "        self.second_coordinate = N\n",
    "        if game_board is None:\n",
    "            self.game_board = self.builder()\n",
    "        else:\n",
    "            self.game_board = game_board\n",
    "\n",
    "    def builder(self) -> np.array:\n",
    "        game_board = np.zeros((self.board_size, self.second_coordinate))\n",
    "        game_board[1::2, 0::2] = 1\n",
    "        game_board[0::2, 1::2] = 1\n",
    "        \n",
    "        return game_board\n",
    "\n",
    "    def queens_generator(self) -> np.array:\n",
    "        for j in range(len(self.game_board)):\n",
    "            queens_row = randint(0, len(self.game_board) - 1)\n",
    "            queens_column = j\n",
    "            self.game_board[queens_row, queens_column] = QUEEN_INDENTIFIER # this integer number gives the distinct color\n",
    "\n",
    "        plt.imshow(self.game_board)\n",
    "\n",
    "        \"\"\" Uma simples aritmetica com o resultado de argwhere ja nos nada o resultado das rainhas que sao encontradas por determinada rainha.\n",
    "            Podemos por exemplo olhar sempre para a próxima rainha e ver se ela se encaixa em 1 de 3 casos em relação a rainha base: estar na\n",
    "            mesma linha, estar na diagonal superior ou estar na diagonal inferior. Para a diagonal seria interessante ver se a diferenca de\n",
    "            coordenadas em x e y eh igual, ou seja, subiu (ou desceu) 2 e 2 em relacao a posicao inical.\"\"\"\n",
    "\n",
    "        return\n",
    "\n",
    "    def queens_attacks(self) -> int:\n",
    "        queens_positions = np.argwhere(self.game_board == QUEEN_INDENTIFIER).tolist()\n",
    "        queens_positions = sorted(queens_positions, key=lambda position: position[1])\n",
    "        #print(queens_positions)\n",
    "\n",
    "        number_of_attacks = 0\n",
    "\n",
    "        for i in range(len(queens_positions) - 1):\n",
    "            for j in range(i + 1, len(queens_positions)):\n",
    "                if (horizontal_attack(queens_positions[i], queens_positions[j]) or\n",
    "                    diagonal_attack(queens_positions[i], queens_positions[j])):\n",
    "                    \n",
    "                    #print(f\"{queens_positions[i]} ataca {queens_positions[j]}\")\n",
    "                    number_of_attacks += 1\n",
    "        \n",
    "        #print(f\"Numero de ataques nesse tabuleiro {number_of_attacks}\")\n",
    "\n",
    "        return number_of_attacks\n",
    "\n",
    "    def all_neighbors(self) -> NotImplemented:\n",
    "        queens_positions = np.argwhere(self.game_board == QUEEN_INDENTIFIER).tolist()\n",
    "        queens_positions = sorted(queens_positions, key=lambda position: position[1])\n",
    "\n",
    "        neighbors = []\n",
    "\n",
    "        for position in queens_positions:\n",
    "            original_row, original_column = position[0], position[1] \n",
    "            available_rows = [i for i in range(self.board_size)\n",
    "                              if i != original_row]\n",
    "\n",
    "            for row in available_rows:\n",
    "                new_game_board = copy(self.game_board)\n",
    "                new_game_board[original_row, original_column] = 0\n",
    "                new_game_board[row, original_column] = QUEEN_INDENTIFIER\n",
    "\n",
    "                neighbors.append(Board(self.board_size, new_game_board))\n",
    "\n",
    "        return neighbors\n",
    "\n",
    "    def any_neighbor(self) -> NotImplemented:\n",
    "        queens_positions = np.argwhere(self.game_board == QUEEN_INDENTIFIER).tolist()\n",
    "        queens_positions = sorted(queens_positions, key=lambda position: position[1])\n",
    "        \n",
    "        # Escolhendo aleatoriamente a rainha que ira mudar de lugar\n",
    "        any_position = choice(queens_positions)\n",
    "\n",
    "        original_row, original_column = any_position[0], any_position[1]\n",
    "        available_rows = [i for i in range(self.board_size)\n",
    "                            if i != original_row]\n",
    "        \n",
    "        # Escolhendo aleatoriamente para qual linha a rainha ira\n",
    "        any_row = choice(available_rows)\n",
    "\n",
    "        # Gerando o vizinho com as informacoes anteriores\n",
    "        new_game_board = copy(self.game_board)\n",
    "        new_game_board[original_row, original_column] = 0\n",
    "        new_game_board[any_row, original_column] = QUEEN_INDENTIFIER\n",
    "\n",
    "        return Board(self.board_size, new_game_board)"
   ]
  },
  {
   "cell_type": "markdown",
   "metadata": {},
   "source": [
    "### Definição da função que gera todos os vizinhos de um dado tabuleiro"
   ]
  },
  {
   "cell_type": "code",
   "execution_count": 8,
   "metadata": {},
   "outputs": [],
   "source": [
    "from matplotlib.style import available\n",
    "import numpy as np\n",
    "from typing import List\n",
    "\n",
    "def all_neighbors(board: Board) -> NotImplemented:\n",
    "    queens_positions = np.argwhere(board.game_board == QUEEN_INDENTIFIER).tolist()\n",
    "    queens_positions = sorted(queens_positions, key=lambda position: position[1])\n",
    "\n",
    "    neighbors = []\n",
    "\n",
    "    for position in queens_positions:\n",
    "        current_row = position[0]\n",
    "        available_rows = [i for i in range(board.board_size) \n",
    "                          if i != current_row]\n",
    "        \n",
    "        for row in available_rows:\n",
    "            new_board = board.game_board\n",
    "            new_board[position[0], position[1]] = 0\n",
    "            new_board[row, position[1]] = QUEEN_INDENTIFIER\n",
    "\n",
    "            neighbors.append(new_board)\n",
    "\n",
    "    print(len(neighbors))\n",
    "    \n",
    "\n",
    "    return neighbors"
   ]
  },
  {
   "cell_type": "markdown",
   "metadata": {},
   "source": [
    "### Definição da função 'tabuleiro' "
   ]
  },
  {
   "cell_type": "code",
   "execution_count": 46,
   "metadata": {},
   "outputs": [],
   "source": [
    "def tabuleiro(N:int , Q:int) -> List[Board]:\n",
    "    \"\"\"\n",
    "    Retorna Q tabuleiros, cada um com N rainhas.\n",
    "    \"\"\"\n",
    "\n",
    "    all_boards = []\n",
    "\n",
    "    for _ in range(Q):\n",
    "        board = Board(N)\n",
    "        board.queens_generator()\n",
    "        all_boards.append(board)\n",
    "\n",
    "    return all_boards"
   ]
  },
  {
   "cell_type": "markdown",
   "metadata": {},
   "source": [
    "### Definição da função 'todosVizinhos'"
   ]
  },
  {
   "cell_type": "code",
   "execution_count": 31,
   "metadata": {},
   "outputs": [],
   "source": [
    "def todos_vizinhos(board: Board) -> List[Board]:\n",
    "    \"\"\"\n",
    "    Dado um tabuleiro qualquer, retorna todos os seus vizinhos.\n",
    "    \"\"\"\n",
    "\n",
    "    neighbors = board.all_neighbors()\n",
    "\n",
    "    return neighbors"
   ]
  },
  {
   "cell_type": "markdown",
   "metadata": {},
   "source": [
    "### Definindo função adicional 'vizualiza todos vizinhos'"
   ]
  },
  {
   "cell_type": "code",
   "execution_count": 54,
   "metadata": {},
   "outputs": [],
   "source": [
    "def vizualiza_todos_vizinhos(neighbors: List[Board]):\n",
    "    \"\"\"\n",
    "    Funcao adicional para auxiliar na visualizacao de todos os vizinhos\n",
    "    de um determinado tabuleiro. As variaveis estao inicialmente setadas\n",
    "    para montar a visualizacao de 12 vizinhos.\n",
    "    \"\"\"\n",
    "    \n",
    "    fig = plt.figure(figsize=(15, 6))\n",
    "\n",
    "    rows = 2\n",
    "    columns = 6\n",
    "    \n",
    "    for i in range(1, len(neighbors) + 1):\n",
    "        board = neighbors[i - 1]\n",
    "        fig.add_subplot(rows, columns, i)\n",
    "        plt.imshow(board.game_board)\n",
    "        plt.axis('off')\n",
    "        plt.title(f\"Ataques: {board.queens_attacks()}\")"
   ]
  },
  {
   "cell_type": "code",
   "execution_count": 55,
   "metadata": {},
   "outputs": [
    {
     "data": {
      "image/png": "[encoded data removed]",
      "text/plain": [
       "<Figure size 432x288 with 1 Axes>"
      ]
     },
     "metadata": {
      "needs_background": "light"
     },
     "output_type": "display_data"
    },
    {
     "data": {
      "image/png": "[encoded data removed]",
      "text/plain": [
       "<Figure size 1080x432 with 12 Axes>"
      ]
     },
     "metadata": {
      "needs_background": "light"
     },
     "output_type": "display_data"
    }
   ],
   "source": [
    "def main():\n",
    "    number_of_queens, number_of_boards = [int(element) for element in input(\"Enter the number of queens and number of boards: \").split()]\n",
    "    generated_boards = tabuleiro(number_of_queens, number_of_boards)\n",
    "\n",
    "    board = choice(generated_boards)\n",
    "    neighbors = todos_vizinhos(board)\n",
    "    vizualiza_todos_vizinhos(neighbors)\n",
    "\n",
    "    # board.queens_generator()\n",
    "    # board.queens_attacks()\n",
    "    # neighbors = board.all_neighbors()\n",
    "\n",
    "if __name__ == \"__main__\":\n",
    "    main()"
   ]
  }
 ],
 "metadata": {
  "kernelspec": {
   "display_name": "Python 3.10.0 64-bit",
   "language": "python",
   "name": "python3"
  },
  "language_info": {
   "codemirror_mode": {
    "name": "ipython",
    "version": 3
   },
   "file_extension": ".py",
   "mimetype": "text/x-python",
   "name": "python",
   "nbconvert_exporter": "python",
   "pygments_lexer": "ipython3",
   "version": "3.10.0"
  },
  "orig_nbformat": 4,
  "vscode": {
   "interpreter": {
    "hash": "0f2f6c680cf484319d387fabac80ca4ff4fc33965036e02100b3fe02600f1423"
   }
  }
 },
 "nbformat": 4,
 "nbformat_minor": 2
}
