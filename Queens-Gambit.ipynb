{
 "cells": [
  {
   "cell_type": "code",
<<<<<<< HEAD
   "execution_count": 44,
=======
   "execution_count": 226,
>>>>>>> 115f6870b0b82ee7a51fc438254ed682486e7045
   "metadata": {},
   "outputs": [],
   "source": [
    "import time\n",
    "import matplotlib.pyplot as plt\n",
    "import numpy as np\n",
    "\n",
    "from copy import copy\n",
    "from random import choice, randint\n",
    "\n",
    "\n",
    "# Constantes \n",
    "QUEEN_INDENTIFIER = 22\n",
    "NUMBER_OF_QUEENS = 16\n",
    "NUMBER_OF_BOARDS = 10\n",
    "MOCK_INPUT = [NUMBER_OF_QUEENS, NUMBER_OF_BOARDS]"
   ]
  },
  {
   "cell_type": "markdown",
   "metadata": {},
   "source": [
    "### Definição de funções utilitárias para o movimento das rainhas"
   ]
  },
  {
   "cell_type": "code",
<<<<<<< HEAD
   "execution_count": 4,
=======
   "execution_count": 227,
>>>>>>> 115f6870b0b82ee7a51fc438254ed682486e7045
   "metadata": {},
   "outputs": [],
   "source": [
    "def horizontal_attack(first_position: tuple[int, int], second_position: tuple[int, int]) -> bool:\n",
    "    \"\"\"\n",
    "    Verifies if first_position's queen can attack the second_position's queen by comparing\n",
    "    it's line coordinate (first tuple coordinate).\n",
    "    \"\"\"\n",
    "    return first_position[0] == second_position[0]\n",
    "\n",
    "def diagonal_attack(first_position: tuple[int, int], second_position: tuple[int, int]) -> bool:\n",
    "    \"\"\"\n",
    "    Verifies if first_position's queen can attack the second_position's queen by comparing\n",
    "    it's diagonal coordinates. The absolute value of the coordinates difference must be the\n",
    "    same.\n",
    "    \"\"\"\n",
    "    return abs(first_position[0] - second_position[0]) == abs(first_position[1] - second_position[1])"
   ]
  },
  {
   "cell_type": "markdown",
   "metadata": {},
   "source": [
    "### Definição da principal classe do projeto 'Board'\n",
    "\n",
    "#### Esta classe implementa a criação do tabuleiro jogo, com as damas sendo aleatoriamente posicionadas. "
   ]
  },
  {
   "cell_type": "code",
<<<<<<< HEAD
   "execution_count": 6,
=======
   "execution_count": 228,
>>>>>>> 115f6870b0b82ee7a51fc438254ed682486e7045
   "metadata": {},
   "outputs": [],
   "source": [
    "class Board:\n",
    "    def __init__(self, N, game_board=None) -> None:\n",
    "        self.first_coordinate = N\n",
    "        self.second_coordinate = N\n",
    "        if game_board is None:\n",
    "            self.game_board = self.builder()\n",
    "            self.queens_generator()\n",
    "        else:\n",
    "            self.game_board = game_board\n",
    "        self.heuristic_value = None\n",
    "\n",
    "    def builder(self) -> np.array:\n",
    "        game_board = np.zeros((self.first_coordinate, self.second_coordinate))\n",
    "        game_board[1::2, 0::2] = 1\n",
    "        game_board[0::2, 1::2] = 1\n",
    "        return game_board\n",
    "\n",
    "    def queens_generator(self) -> None:\n",
    "        for j in range(len(self.game_board)):\n",
    "            queens_row = randint(0, len(self.game_board) - 1)\n",
    "            queens_column = j\n",
    "            self.game_board[\n",
    "                queens_row, queens_column\n",
    "            ] = QUEEN_INDENTIFIER  # this integer number gives the distinct color\n",
    "\n",
    "    def queens_attacks(self) -> int:\n",
    "        queens_positions = np.argwhere(self.game_board == QUEEN_INDENTIFIER).tolist()\n",
    "        queens_positions = sorted(queens_positions, key=lambda position: position[1])\n",
    "\n",
    "        number_of_attacks = 0\n",
    "\n",
    "        for i in range(len(queens_positions) - 1):\n",
    "            for j in range(i + 1, len(queens_positions)):\n",
    "                if horizontal_attack(\n",
    "                    queens_positions[i], queens_positions[j]\n",
    "                ) or diagonal_attack(queens_positions[i], queens_positions[j]):\n",
    "                    number_of_attacks += 1\n",
    "\n",
    "        # print(f\"Numero de ataques nesse tabuleiro {number_of_attacks}\")\n",
    "        self.heuristic_value = -1 * number_of_attacks\n",
    "\n",
    "        return number_of_attacks\n",
    "\n",
    "    def all_neighbors(self) -> list['Board']:\n",
    "        queens_positions = np.argwhere(self.game_board == QUEEN_INDENTIFIER).tolist()\n",
    "        queens_positions = sorted(queens_positions, key=lambda position: position[1])\n",
    "\n",
    "        neighbors = []\n",
    "\n",
    "        for position in queens_positions:\n",
    "            original_row, original_column = position[0], position[1]\n",
    "            available_rows = [\n",
    "                i for i in range(self.first_coordinate) if i != original_row\n",
    "            ]\n",
    "\n",
    "            for row in available_rows:\n",
    "                new_game_board = copy(self.game_board)\n",
    "                new_game_board[original_row, original_column] = 0\n",
    "                new_game_board[row, original_column] = QUEEN_INDENTIFIER\n",
    "\n",
    "                neighbors.append(Board(self.first_coordinate, new_game_board))\n",
    "\n",
    "        return neighbors\n",
    "\n",
    "    def any_neighbor(self) -> 'Board':\n",
    "        queens_positions = np.argwhere(self.game_board == QUEEN_INDENTIFIER).tolist()\n",
    "        queens_positions = sorted(queens_positions, key=lambda position: position[1])\n",
    "\n",
    "        # Escolhendo aleatoriamente a rainha que ira mudar de lugar\n",
    "        any_position = choice(queens_positions)\n",
    "\n",
    "        original_row, original_column = any_position[0], any_position[1]\n",
    "        available_rows = [i for i in range(self.first_coordinate) if i != original_row]\n",
    "\n",
    "        # Escolhendo aleatoriamente para qual linha a rainha ira\n",
    "        any_row = choice(available_rows)\n",
    "\n",
    "        # Gerando o vizinho com as informacoes anteriores\n",
    "        new_game_board = copy(self.game_board)\n",
    "        new_game_board[original_row, original_column] = 0\n",
    "        new_game_board[any_row, original_column] = QUEEN_INDENTIFIER\n",
    "\n",
    "        return Board(self.first_coordinate, new_game_board)\n",
    "\n",
    "    def __str__(self):\n",
    "        return f\"\\nHeuristic: {self.heuristic_value}\\n{str(self.game_board)}\\n\"\n",
    "\n",
    "    def __repr__(self):\n",
    "        size = self.first_coordinate\n",
    "        return f\"Board({size},{size})\"\n"
   ]
  },
  {
   "cell_type": "markdown",
   "metadata": {},
   "source": [
    "### Definição da função que gera todos os vizinhos de um dado tabuleiro"
   ]
  },
  {
   "cell_type": "code",
<<<<<<< HEAD
   "execution_count": 7,
=======
   "execution_count": 229,
>>>>>>> 115f6870b0b82ee7a51fc438254ed682486e7045
   "metadata": {},
   "outputs": [],
   "source": [
    "def all_neighbors(board: Board) -> NotImplemented:\n",
    "    queens_positions = np.argwhere(board.game_board == QUEEN_INDENTIFIER).tolist()\n",
    "    queens_positions = sorted(queens_positions, key=lambda position: position[1])\n",
    "\n",
    "    neighbors = []\n",
    "\n",
    "    for position in queens_positions:\n",
    "        current_row = position[0]\n",
    "        available_rows = [i for i in range(board.first_coordinate) if i != current_row]\n",
    "\n",
    "        for row in available_rows:\n",
    "            new_board = board.game_board\n",
    "            new_board[position[0], position[1]] = 0\n",
    "            new_board[row, position[1]] = QUEEN_INDENTIFIER\n",
    "\n",
    "            neighbors.append(new_board)\n",
    "\n",
    "    return neighbors\n"
   ]
  },
  {
   "cell_type": "markdown",
   "metadata": {},
   "source": [
    "### Definição da função 'tabuleiro' "
   ]
  },
  {
   "cell_type": "code",
<<<<<<< HEAD
   "execution_count": 8,
=======
   "execution_count": 230,
>>>>>>> 115f6870b0b82ee7a51fc438254ed682486e7045
   "metadata": {},
   "outputs": [],
   "source": [
    "def tabuleiro(N: int, Q: int) -> list[Board]:\n",
    "    \"\"\"\n",
    "    Retorna Q tabuleiros, cada um com N rainhas.\n",
    "    \"\"\"\n",
    "    all_boards = []\n",
    "    for _ in range(Q):\n",
    "        board = Board(N)\n",
    "        all_boards.append(board)\n",
    "    return all_boards\n"
   ]
  },
  {
   "cell_type": "markdown",
   "metadata": {},
   "source": [
    "### Definição da função 'umVizinho' "
   ]
  },
  {
   "cell_type": "code",
<<<<<<< HEAD
   "execution_count": 9,
=======
   "execution_count": 231,
>>>>>>> 115f6870b0b82ee7a51fc438254ed682486e7045
   "metadata": {},
   "outputs": [],
   "source": [
    "def um_vizinho(board: Board) -> Board:\n",
    "    \"\"\"\n",
    "    Retorna um vizinho aleatorio do tabuleiro.\n",
    "    \"\"\"\n",
    "    return board.any_neighbor()\n"
   ]
  },
  {
   "cell_type": "markdown",
   "metadata": {},
   "source": [
    "### Definição da função 'todosVizinhos'"
   ]
  },
  {
   "cell_type": "code",
<<<<<<< HEAD
   "execution_count": 10,
=======
   "execution_count": 232,
>>>>>>> 115f6870b0b82ee7a51fc438254ed682486e7045
   "metadata": {},
   "outputs": [],
   "source": [
    "def todos_vizinhos(board: Board) -> list[Board]:\n",
    "    \"\"\"\n",
    "    Dado um tabuleiro qualquer, retorna todos os seus vizinhos.\n",
    "    \"\"\"\n",
    "    return board.all_neighbors()\n"
   ]
  },
  {
   "cell_type": "markdown",
   "metadata": {},
   "source": [
    "### Definindo função adicional 'vizualiza todos vizinhos'"
   ]
  },
  {
   "cell_type": "code",
<<<<<<< HEAD
   "execution_count": 11,
=======
   "execution_count": 233,
>>>>>>> 115f6870b0b82ee7a51fc438254ed682486e7045
   "metadata": {},
   "outputs": [],
   "source": [
    "def vizualiza_todos_vizinhos(neighbors: list[Board]):\n",
    "    \"\"\"\n",
    "    Funcao adicional para auxiliar na visualizacao de todos os vizinhos\n",
    "    de um determinado tabuleiro. As variaveis estao inicialmente setadas\n",
    "    para montar a visualizacao de 12 vizinhos.\n",
    "    \"\"\"\n",
    "\n",
    "    fig = plt.figure(figsize=(16, 9))\n",
    "    columns = 6\n",
    "    rows = (len(neighbors)//columns) + 1\n",
    "    for i in range(1, len(neighbors) + 1):\n",
    "        board = neighbors[i - 1]\n",
    "        fig.add_subplot(rows, columns, i)\n",
    "        plt.imshow(board.game_board)\n",
    "        plt.axis(\"off\")\n",
    "        plt.title(f\"Ataques: {board.queens_attacks()}\")\n"
   ]
  },
  {
   "cell_type": "code",
<<<<<<< HEAD
   "execution_count": 12,
   "metadata": {},
   "outputs": [],
=======
   "execution_count": 234,
   "metadata": {},
   "outputs": [
    {
     "data": {
      "image/png": "iVBORw0KGgoAAAANSUhEUgAABOwAAAHQCAYAAAASxfX0AAAAOXRFWHRTb2Z0d2FyZQBNYXRwbG90bGliIHZlcnNpb24zLjYuMiwgaHR0cHM6Ly9tYXRwbG90bGliLm9yZy8o6BhiAAAACXBIWXMAAA9hAAAPYQGoP6dpAAAqyUlEQVR4nO3de4yV9Z0/8M9wcQC5jQoqxXKTKLgu04qCGu5SEFPTVSpKbLGtWVw10FSrrTFCrTaC1WKro/WyVMhspqllUs1arQpUZY1o1FYLbakFbURFdAdmARWY7+8PfoxOB2XOMOP5zvB6JSTy3M7nPA9vH3n7nDMlKaUUAAAAAEAWOhR7AAAAAADgIwo7AAAAAMiIwg4AAAAAMqKwAwAAAICMKOwAAAAAICMKOwAAAADIiMIOAAAAADKisAMAAACAjCjsAAAAACAjCjsAAAAAyMhBU9hVVFRESUlJjBo1ap/r16xZE/Pnz48NGzZ8toNlqrq6OqZMmRL9+vWL0tLS6N+/f0yfPj1eeeWVYo9GBuSpMMuWLYsZM2bE4MGDo1u3bnHcccfFFVdcETU1NcUejUzIVGHco9gfmTowkydPjpKSkrj88suLPQoZkKfCzJ8/P0pKShr96tKlS7FHIxMy1Ty//OUv49RTT41DDz00evfuHaeddlosX7682GO1qoOmsKusrIyBAwfG6tWr429/+1uj9WvWrIkf/OAHQvH/vfzyy1FWVhZz586NioqK+I//+I948cUX45RTTok//OEPxR6PIpOnwvz7v/97rF27Ni688ML46U9/GlOnTo3bb789Tj311NixY0exxyMDMlUY9yj2R6aab9myZfHMM88UewwyIk/Nc+edd8bSpUvrfy1evLjYI5EJmSrc/Pnz44ILLohjjjkmbr311rjhhhviX//1X+ONN94o9mitKx0E/v73v6eISMuWLUt9+vRJ8+fPb7TNr371qxQRacWKFZ/9gG3EW2+9lTp16pRmz55d7FEoInkq3L7Ow/33358iIt1zzz2f/UBkRaZahnsUe8lU8+3YsSMNHDgwXX/99Ski0mWXXVbskSgyeSrcvHnzUkSkd955p9ijkCGZKtwzzzyTSkpK0q233lrsUT5zB8UTdpWVlVFWVhZnnXVWTJ8+PSorKxus/8UvfhFf/epXIyJiwoQJ9Y8tr1y5MiIifvOb38RZZ51V/9GbIUOGxA9/+MPYvXt3o9e6++67Y8iQIdG1a9c45ZRT4qmnnorx48fH+PHjG7xeSUlJo8Z85cqVDV53r2effTamTp0avXr1im7dusW4ceNi1apVDbapra2Nb3/72zFw4MAoLS2Nvn37xuTJk+OFF16o32b79u3x5z//OTZv3lzgGdyjb9++0a1bNx/jO8jJ0x6F5Onj8+71b//2bxERsXbt2v3uT/smU3u4R9FSZGqP5mRq4cKFUVdXF1deeWWT96F9k6c9mpOnlFJs3bo1UkpN3of2T6b2KCRTixYtiqOOOirmzp0bKaX4v//7v/3u014cNIXdOeecE4ccckhccMEFsW7dunjuuefq148dOzbmzJkTERHXXHNN/WPLw4YNi4g9f4i7d+8e3/nOd+K2226Lk046Ka677rr43ve+1+B17rvvvpg9e3YcddRRsXDhwjj99NPj7LPPjn/84x/Nnn358uUxduzY2Lp1a8ybNy9+9KMfRU1NTUycODFWr15dv90ll1wSd955Z5x77rlRUVERV155ZXTt2rVBGbB69eoYNmxY3H777U1+/ZqamnjnnXfi5Zdfjosvvji2bt0akyZNavb7oe2Tpz2ak6ePe+uttyIi4ogjjmj2+6F9kKk93KNoKTK1R6GZev311+Omm26KBQsWRNeuXZv9Hmhf5GmP5tyjBg8eHL169YoePXrEhRdeGG+//Xaz3wvth0ztUUimnnjiiTj55JPjpz/9afTp0yd69OgRRx99dLP/HtamFPkJv1b3/PPPp4hIjz32WEoppbq6utS/f/80d+7cBtt92mOn27dvb7Rs9uzZqVu3bun9999PKaX04Ycfpr59+6by8vL0wQcf1G939913p4hI48aNq1+2ePHiFBFp/fr1DY65YsWKBjPU1dWloUOHpilTpqS6uroG8wwaNChNnjy5flmvXr32+7GFvcefN2/ep273cccdd1yKiBQRqXv37unaa69Nu3fvbvL+tC/y1Pj4heTp4771rW+ljh07pr/+9a/N2p/2QaYaH989igMhU42P39RMTZ8+PZ122mn1vw8fiT3oyVPj4zclT4sWLUqXX355qqysTA888ECaO3du6tSpUxo6dGjasmXLfven/ZKpxsffX6bee++9FBHp8MMPT927d08333xz+uUvf5mmTp2aIiLdddddn7p/W9fun7CrrKyMI488MiZMmBARESUlJTFjxoyoqqra52Oj+/Lx/8tYW1sbmzdvjjFjxtQ/xhkR8fzzz8emTZvikksuiUMOOaR++4suuih69erVrNlfeumlWLduXcycOTPefffd2Lx5c2zevDm2bdsWkyZNiieffDLq6uoiIqJ3797x7LPPxsaNGz/xeOPHj4+UUsyfP7/JMyxevDgeeeSRqKioiGHDhsWOHTuafN5of+TpI83J017/9V//Fffdd19cccUVMXTo0Ga9H9oHmfqIexQtQaY+UkimVqxYEb/+9a9j0aJFzZqd9kmePlJInubOnRs/+9nPYubMmXHuuefGokWL4v77749169ZFRUVFs94P7YNMfaSpmdr78dd333037r333rjyyivjvPPOi//+7/+O4cOHxw033NCs99NWdCr2AK1p9+7dUVVVFRMmTIj169fXLx81alTccsst8cQTT8SXvvSl/R7nT3/6U1x77bWxfPny2Lp1a4N1W7ZsiYiI1157LSKi0V++O3fuHIMHD27W/OvWrYuIiFmzZn3iNlu2bImysrJYuHBhzJo1K4455pg46aSTYtq0afH1r3+92a+916mnnlr/z+eff379o7g//vGPD+i4tD3ydOB5ioh46qmn4lvf+lZMmTIlbrzxxgM+Hm2XTLlH0bJkqnmZ2rVrV8yZMye+9rWvxcknn9ys2Wl/5Kll/rtvr5kzZ8YVV1wRjz/+eKOPLnJwkKnmZWpvQdm5c+eYPn16/fIOHTrEjBkzYt68efH666/H5z//+YKP3Ra068Ju+fLl8eabb0ZVVVVUVVU1Wl9ZWbnfUNTU1MS4ceOiZ8+ecf3118eQIUOiS5cu8cILL8TVV19d3yIXoqSkZJ/L/7lV33vsm2++OcrLy/e5T/fu3SMi4rzzzosxY8ZEdXV1/O53v4ubb745FixYEMuWLYszzzyz4Bn3paysLCZOnBiVlZX+MnQQkqcDz9Mf/vCHOPvss+Nf/uVf4oEHHohOndr1v4LZD5lyj6JlyVTzMrVkyZL4y1/+Ej//+c8bfel4bW1tbNiwof6HunDwkKeWvUdFRBxzzDHx3nvvtdjxaFtkqnmZOuyww6JLly7Ru3fv6NixY4N1ffv2jYiI//3f/1XYtUWVlZXRt2/fuOOOOxqtW7ZsWVRXV8ddd90VXbt2/cQ/qCtXrox33303li1bFmPHjq1f/vFWPCJiwIABEbGneZ44cWL98p07d8b69etjxIgR9cvKysoiIhr9JLu9TfheQ4YMiYiInj17xhlnnLG/txtHH310XHrppXHppZfGpk2b4otf/GLceOONLXqj2bFjR31zz8FFng4sT6+++mpMnTo1+vbtGw8//HD9DY2Dl0y5R9GyZKp5mXr99ddj586dcfrppzdat2TJkliyZElUV1fHV77ylYKOS9smTy17j0opxYYNG+ILX/hCixyPtkemmpepDh06RHl5eTz33HPx4YcfNviI796P3Pbp06egY7YpRfz+vFa1ffv21KNHj/TNb35zn+tXrVqVIiJVVVWllFL67W9/myIiVVdXN9juwQcfTBGRVq5cWb/sgw8+SOXl5Q2+hPHDDz9Mffr0adIXO77yyispItJtt91Wv2zXrl1p1KhRDY65e/fuNGTIkDR06NBUW1vb6D1s2rSpft+amppG608++eQ0cuTI+t9v27YtrV27Nr3zzjv7PCcf9/bbbzdatn79+tSjR480ZsyY/e5P+yJPB5anN998Mw0ePDj169ev0Re6cnCSKfcoWpZMNT9Ta9euTdXV1Y1+RUSaNm1aqq6uThs3bvzUY9C+yNOB3aP2Hvvj7rjjjhQR6dZbb93v/rQ/MnVgmfrJT36SIiLdfffd9ct27NiRBg8enIYPH77f/duydvuE3YMPPhi1tbVx9tln73P96NGjo0+fPlFZWRkzZsyI8vLy6NixYyxYsCC2bNkSpaWlMXHixDjttNOirKwsZs2aFXPmzImSkpJYunRppJQaHK9z585xww03xOzZs2PixIkxY8aMWL9+fSxevLjRZ7VPOOGEGD16dHz/+9+P9957Lw477LCoqqqKXbt2NdiuQ4cOce+998aZZ54ZJ5xwQnzjG9+Iz33uc/HGG2/EihUromfPnvHQQw9FbW1t9O/fP6ZPnx4jRoyI7t27x+OPPx7PPfdc3HLLLfXHW716dUyYMCHmzZu33y93PPHEE2PSpElRXl4eZWVlsW7durjvvvti586dcdNNNxVwJWgP5OnA8jR16tT4+9//HldddVU8/fTT8fTTT9evO/LII2Py5MlNuQy0IzLlHkXLkqnmZ+r444+P448/fp/rBg0a5Mm6g5A8Hdg9asCAATFjxow48cQTo0uXLvH0009HVVVVlJeXx+zZswu4ErQXMnVgmZo9e3bce++9cdlll8Vf//rX+PznPx9Lly6N1157LR566KECrkQbVMy2sDV9+ctfTl26dEnbtm37xG0uuuii1Llz57R58+aUUkr33HNPGjx4cOrYsWODNnnVqlVp9OjRqWvXrqlfv37pqquuSo8++ug+f9RyRUVFGjRoUCotLU0jR45MTz75ZBo3blyDFjullF599dV0xhlnpNLS0nTkkUema665Jj322GP7POaLL76YzjnnnHT44Yen0tLSNGDAgHTeeeelJ554IqW0p1X/7ne/m0aMGJF69OiRDj300DRixIhUUVHR4DiF/DjyefPmpZEjR6aysrLUqVOn1K9fv3T++eenP/7xj/vdl/ZHng4sTxHxib/++b1wcJAp9yhalkwdWKb2JSLSZZdd1qx9advk6cDydPHFF6fhw4enHj16pM6dO6djjz02XX311Wnr1q373Zf2SaYO/B719ttvp1mzZqXDDjsslZaWplGjRqVHHnmkSfu2ZSUp/VMdS4sbP358ROz5zDlwYOQJWpZMQcuSKWg58gQtS6balg7FHgAAAAAA+IjCDgAAAAAyorADAAAAgIz4DjsAAAAAyIgn7AAAAAAgIwo7AAAAAMiIwg4AAAAAMtKpqRvWvTW0NedocdOGjyv2CAXbXbOl2CMUpGPvXsUeoWCPvHdvsUeoN7nDV4s9QkHa4vWWqdaXS6bkqfXJU+vLJU8RbS9Tj258qdgjFGxKv/Jij1AQmWq+tpantnit3aNaXy55ipCpz4JMtb6mZMoTdgAAAACQEYUdAAAAAGREYQcAAAAAGVHYAQAAAEBGFHYAAAAAkBGFHQAAAABkRGEHAAAAABlR2AEAAABARhR2AAAAAJARhR0AAAAAZERhBwAAAAAZUdgBAAAAQEYUdgAAAACQEYUdAAAAAGREYQcAAAAAGVHYAQAAAEBGFHYAAAAAkBGFHQAAAABkRGEHAAAAABlR2AEAAABARhR2AAAAAJARhR0AAAAAZERhBwAAAAAZUdgBAAAAQEYUdgAAAACQEYUdAAAAAGREYQcAAAAAGVHYAQAAAEBGFHYAAAAAkBGFHQAAAABkRGEHAAAAABlR2AEAAABARhR2AAAAAJARhR0AAAAAZERhBwAAAAAZUdgBAAAAQEYUdgAAAACQEYUdAAAAAGREYQcAAAAAGVHYAQAAAEBGFHYAAAAAkBGFHQAAAABkpFNTN5w2fFxrztHidtdsKfYIBevYu1exRyhIWzzHOXl040vFHqEgU/qVF3uEgsnUwcO1bn3O8cGlrV1v96jWJ1PN19au9cNrfl/sEQrm76oHl7aWqbZ4vZ3jPHjCDgAAAAAyorADAAAAgIwo7AAAAAAgIwo7AAAAAMiIwg4AAAAAMqKwAwAAAICMKOwAAAAAICMKOwAAAADIiMIOAAAAADKisAMAAACAjCjsAAAAACAjCjsAAAAAyIjCDgAAAAAyorADAAAAgIwo7AAAAAAgIwo7AAAAAMiIwg4AAAAAMqKwAwAAAICMKOwAAAAAICMKOwAAAADIiMIOAAAAADKisAMAAACAjCjsAAAAACAjCjsAAAAAyIjCDgAAAAAyorADAAAAgIwo7AAAAAAgIwo7AAAAAMiIwg4AAAAAMqKwAwAAAICMKOwAAAAAICMKOwAAAADIiMIOAAAAADKisAMAAACAjCjsAAAAACAjCjsAAAAAyIjCDgAAAAAyorADAAAAgIwo7AAAAAAgIwo7AAAAAMiIwg4AAAAAMqKwAwAAAICMKOwAAAAAICMKOwAAAADISKembri7ZktrztHiOvbuVewRCvbwmt8XewQ+Q1P6lRd7hILIFDlzj2p98nRwaWvXe9rwccUeoWBt7RzTfG3tWssTuXO9OVh4wg4AAAAAMqKwAwAAAICMKOwAAAAAICMKOwAAAADIiMIOAAAAADKisAMAAACAjCjsAAAAACAjCjsAAAAAyIjCDgAAAAAyorADAAAAgIwo7AAAAAAgIwo7AAAAAMiIwg4AAAAAMqKwAwAAAICMKOwAAAAAICMKOwAAAADIiMIOAAAAADKisAMAAACAjCjsAAAAACAjCjsAAAAAyIjCDgAAAAAyorADAAAAgIwo7AAAAAAgIwo7AAAAAMiIwg4AAAAAMqKwAwAAAICMKOwAAAAAICMKOwAAAADIiMIOAAAAADKisAMAAACAjCjsAAAAACAjCjsAAAAAyIjCDgAAAAAyorADAAAAgIwo7AAAAAAgIwo7AAAAAMiIwg4AAAAAMqKwAwAAAICMKOwAAAAAICMKOwAAAADIiMIOAAAAADKisAMAAACAjCjsAAAAACAjnZq6YcfevVpzjhb38JrfF3uEgk0bPq7YIxRkd82WYo9QsMfqij3BR2Sq9clU68slU49ufKnYI7R78tT6cslThOv9WXCOW18umXKtW59z3PpyyVOE6/1ZaGt/V22L57gpmfKEHQAAAABkRGEHAAAAABlR2AEAAABARhR2AAAAAJARhR0AAAAAZERhBwAAAAAZUdgBAAAAQEYUdgAAAACQEYUdAAAAAGREYQcAAAAAGVHYAQAAAEBGFHYAAAAAkBGFHQAAAABkRGEHAAAAABlR2AEAAABARhR2AAAAAJARhR0AAAAAZERhBwAAAAAZUdgBAAAAQEYUdgAAAACQEYUdAAAAAGREYQcAAAAAGVHYAQAAAEBGFHYAAAAAkBGFHQAAAABkRGEHAAAAABlR2AEAAABARhR2AAAAAJARhR0AAAAAZERhBwAAAAAZUdgBAAAAQEYUdgAAAACQEYUdAAAAAGREYQcAAAAAGVHYAQAAAEBGFHYAAAAAkBGFHQAAAABkRGEHAAAAABlR2AEAAABARhR2AAAAAJARhR0AAAAAZERhBwAAAAAZUdgBAAAAQEYUdgAAAACQkZKUUir2EAAAAADAHp6wAwAAAICMKOwAAAAAICMKOwAAAADIiMIOAAAAADKisAMAAACAjCjsAAAAACAjCjsAAAAAyIjCDgAAAAAyorADAAAAgIwo7AAAAAAgIwo7AAAAAMiIwg4AAAAAMqKwAwAAAICMKOwAAAAAICMKOwAAAADIiMIOAAAAADKisAMAAACAjCjsAAAAACAjCjsAAAAAyIjCDgAAAAAyorADAAAAgIwo7AAAAAAgIwo7AAAAAMiIwg4AAAAAMqKwAwAAAICMKOwAAAAAICMKOwAAAADIiMIOAAAAADKisAMAAACAjCjsAAAAACAjCjsAAAAAyIjCDgAAAAAyorADAAAAgIwo7AAAAAAgIwo7AAAAAMiIwg4AAAAAMqKwAwAAAICMKOwAAAAAICMKOwAAAADIiMIOAAAAADKisAMAAACAjCjsAAAAACAjCjsAAAAAyIjCDgAAAAAyorADAAAAgIwo7AAAAAAgIwdNYVdRURElJSUxatSofa5fs2ZNzJ8/PzZs2PDZDpap6urqmDJlSvTr1y9KS0ujf//+MX369HjllVeKPRoZkKfCyBP7I1MHZvLkyVFSUhKXX355sUchEzJVGPcpPo08FWb+/PlRUlLS6FeXLl2KPRqZkKnCHMyZ6lTsAT4rlZWVMXDgwFi9enX87W9/i2OPPbbB+jVr1sQPfvCDGD9+fAwcOLA4Q2bk5ZdfjrKyspg7d24cccQR8dZbb8V//ud/ximnnBLPPPNMjBgxotgjUkTyVBh5Yn9kqvmWLVsWzzzzTLHHIDMyVRj3KT6NPDXPnXfeGd27d6//fceOHYs4DTmRqeY5GDN1UBR269evj//5n/+JZcuWxezZs6OysjLmzZtX7LGydt111zVadvHFF0f//v3jzjvvjLvuuqsIU5EDeSqcPPFpZKr53n///bjiiivi6quv3mfOODjJVOHcp/gk8tR806dPjyOOOKLYY5AZmWq+gzFTB8VHYisrK6OsrCzOOuusmD59elRWVjZY/4tf/CK++tWvRkTEhAkT6h+xXLlyZURE/OY3v4mzzjqr/mMCQ4YMiR/+8Iexe/fuRq919913x5AhQ6Jr165xyimnxFNPPRXjx4+P8ePHN3i9kpKSRo+4rly5ssHr7vXss8/G1KlTo1evXtGtW7cYN25crFq1qsE2tbW18e1vfzsGDhwYpaWl0bdv35g8eXK88MIL9dts3749/vznP8fmzZsLPIN79O3bN7p16xY1NTXN2p/2QZ72kCdaikzt0ZxMLVy4MOrq6uLKK69s8j60fzK1h/sULUGe9mhOnlJKsXXr1kgpNXkf2j+Z2kOmmuagKezOOeecOOSQQ+KCCy6IdevWxXPPPVe/fuzYsTFnzpyIiLjmmmti6dKlsXTp0hg2bFhE7PlD3L179/jOd74Tt912W5x00klx3XXXxfe+970Gr3PffffF7Nmz46ijjoqFCxfG6aefHmeffXb84x//aPbsy5cvj7Fjx8bWrVtj3rx58aMf/Shqampi4sSJsXr16vrtLrnkkrjzzjvj3HPPjYqKirjyyiuja9eusXbt2vptVq9eHcOGDYvbb7+9ya9fU1MT77zzTrz88stx8cUXx9atW2PSpEnNfj+0ffK0hzzRUmRqj0Iz9frrr8dNN90UCxYsiK5duzb7PdD+yNQe7lO0BHnaozl5Gjx4cPTq1St69OgRF154Ybz99tvNfi+0HzK1h0w1UWrnnn/++RQR6bHHHksppVRXV5f69++f5s6d22C7X/3qVyki0ooVKxodY/v27Y2WzZ49O3Xr1i29//77KaWUPvzww9S3b99UXl6ePvjgg/rt7r777hQRady4cfXLFi9enCIirV+/vsExV6xY0WCGurq6NHTo0DRlypRUV1fXYJ5BgwalyZMn1y/r1atXuuyyyz71XOw9/rx58z51u4877rjjUkSkiEjdu3dP1157bdq9e3eT96d9kafGx5cnDoRMNT5+UzM1ffr0dNppp9X/PiL2+xq0fzLV+PjuUzSXPDU+flPytGjRonT55ZenysrK9MADD6S5c+emTp06paFDh6YtW7bsd3/aL5lqfHyZ+nTt/gm7ysrKOPLII2PChAkREVFSUhIzZsyIqqqqfT42ui8f/z/3tbW1sXnz5hgzZkz9Y5wREc8//3xs2rQpLrnkkjjkkEPqt7/ooouiV69ezZr9pZdeinXr1sXMmTPj3Xffjc2bN8fmzZtj27ZtMWnSpHjyySejrq4uIiJ69+4dzz77bGzcuPETjzd+/PhIKcX8+fObPMPixYvjkUceiYqKihg2bFjs2LGjyeeN9keePiJPtASZ+kghmVqxYkX8+te/jkWLFjVrdtovmfqI+xQHSp4+Ukie5s6dGz/72c9i5syZce6558aiRYvi/vvvj3Xr1kVFRUWz3g/tg0x9RKaapl3/0Indu3dHVVVVTJgwIdavX1+/fNSoUXHLLbfEE088EV/60pf2e5w//elPce2118by5ctj69atDdZt2bIlIiJee+21iIgYOnRog/WdO3eOwYMHN2v+devWRUTErFmzPnGbLVu2RFlZWSxcuDBmzZoVxxxzTJx00kkxbdq0+PrXv97s197r1FNPrf/n888/v/5R3B//+McHdFzaHnmSJ1qWTDUvU7t27Yo5c+bE1772tTj55JObNTvtk0y5T9Fy5OnA8/RxM2fOjCuuuCIef/zxRh9d5OAgUzLVHO26sFu+fHm8+eabUVVVFVVVVY3WV1ZW7jcUNTU1MW7cuOjZs2dcf/31MWTIkOjSpUu88MILcfXVV9e3yIUoKSnZ5/J/btX3Hvvmm2+O8vLyfe6z98can3feeTFmzJiorq6O3/3ud3HzzTfHggULYtmyZXHmmWcWPOO+lJWVxcSJE6OystJ/uB2E5EmeaFky1bxMLVmyJP7yl7/Ez3/+80ZfkFxbWxsbNmyo/7J8Di4y5T5Fy5Gnls1TRMQxxxwT7733Xosdj7ZFpmSqOdp1YVdZWRl9+/aNO+64o9G6ZcuWRXV1ddx1113RtWvXT/yDunLlynj33Xdj2bJlMXbs2PrlH2/FIyIGDBgQEXua54kTJ9Yv37lzZ6xfvz5GjBhRv6ysrCwiotFP3drbhO81ZMiQiIjo2bNnnHHGGft7u3H00UfHpZdeGpdeemls2rQpvvjFL8aNN97YoqHYsWNHfXPPwUWe5ImWJVPNy9Trr78eO3fujNNPP73RuiVLlsSSJUuiuro6vvKVrxR0XNo+mXKfouXIU8vmKaUUGzZsiC984QstcjzaHpmSqWYp3tfnta7t27enHj16pG9+85v7XL9q1aoUEamqqiqllNJvf/vbFBGpurq6wXYPPvhgioi0cuXK+mUffPBBKi8vb/AljB9++GHq06dPk77Y8ZVXXkkRkW677bb6Zbt27UqjRo1qcMzdu3enIUOGpKFDh6ba2tpG72HTpk31+9bU1DRaf/LJJ6eRI0fW/37btm1p7dq16Z133tnnOfm4t99+u9Gy9evXpx49eqQxY8bsd3/aF3mSJ1qWTDU/U2vXrk3V1dWNfkVEmjZtWqqurk4bN2781GPQ/siU+xQtR54OLE97j/1xd9xxR4qIdOutt+53f9ofmZKp5mq3T9g9+OCDUVtbG2efffY+148ePTr69OkTlZWVMWPGjCgvL4+OHTvGggULYsuWLVFaWhoTJ06M0047LcrKymLWrFkxZ86cKCkpiaVLl0ZKqcHxOnfuHDfccEPMnj07Jk6cGDNmzIj169fH4sWLG31W+4QTTojRo0fH97///XjvvffisMMOi6qqqti1a1eD7Tp06BD33ntvnHnmmXHCCSfEN77xjfjc5z4Xb7zxRqxYsSJ69uwZDz30UNTW1kb//v1j+vTpMWLEiOjevXs8/vjj8dxzz8Utt9xSf7zVq1fHhAkTYt68efv9cscTTzwxJk2aFOXl5VFWVhbr1q2L++67L3bu3Bk33XRTAVeC9kCe5ImWJVPNz9Txxx8fxx9//D7XDRo0yJN1BymZcp+i5cjTgeVpwIABMWPGjDjxxBOjS5cu8fTTT0dVVVWUl5fH7NmzC7gStBcyJVPNVsy2sDV9+ctfTl26dEnbtm37xG0uuuii1Llz57R58+aUUkr33HNPGjx4cOrYsWODNnnVqlVp9OjRqWvXrqlfv37pqquuSo8++ug+f9RyRUVFGjRoUCotLU0jR45MTz75ZBo3blyDFjullF599dV0xhlnpNLS0nTkkUema665Jj322GP7POaLL76YzjnnnHT44Yen0tLSNGDAgHTeeeelJ554IqW0p1X/7ne/m0aMGJF69OiRDj300DRixIhUUVHR4DiF/OjkefPmpZEjR6aysrLUqVOn1K9fv3T++eenP/7xj/vdl/ZHnuSJliVTB5apfYmIdNlllzVrX9o+mXKfouXI04Hl6eKLL07Dhw9PPXr0SJ07d07HHntsuvrqq9PWrVv3uy/tk0zJVHOVpPRPdSwtbvz48RGx5zPnwIGRJ2hZMgUtS6ag5cgTtCyZals6FHsAAAAAAOAjCjsAAAAAyIjCDgAAAAAy4jvsAAAAACAjnrADAAAAgIwo7AAAAAAgIwo7AAAAAMhIp6ZuOLnDV1tzjhbXsXevYo9QsIfX/L7YIxRk2vBxxR6hYI+8d2+xR6gnU61vd82WYo9QkLZ4jnPJlDy1PnlqfbnkKUKmPgttLVOPbnyp2CMUrMNR64o9QkTI02ehreWpLZ5j96jma4vXW6ZaX1My5Qk7AAAAAMiIwg4AAAAAMqKwAwAAAICMKOwAAAAAICMKOwAAAADIiMIOAAAAADKisAMAAACAjCjsAAAAACAjCjsAAAAAyIjCDgAAAAAyorADAAAAgIwo7AAAAAAgIwo7AAAAAMiIwg4AAAAAMqKwAwAAAICMKOwAAAAAICMKOwAAAADIiMIOAAAAADKisAMAAACAjCjsAAAAACAjCjsAAAAAyIjCDgAAAAAyorADAAAAgIwo7AAAAAAgIwo7AAAAAMiIwg4AAAAAMqKwAwAAAICMKOwAAAAAICMKOwAAAADIiMIOAAAAADKisAMAAACAjCjsAAAAACAjCjsAAAAAyIjCDgAAAAAyorADAAAAgIwo7AAAAAAgIwo7AAAAAMiIwg4AAAAAMqKwAwAAAICMKOwAAAAAICMKOwAAAADIiMIOAAAAADLSqakbduzdqzXnaHG7a7YUe4SCTRs+rtgjFKQtnuOcyFTre3TjS8UeoSBT+pUXe4Q2S55an3N8cHG9W19bO8dt8R71WF2xJ9ijrV1reWp9D6/5fbFHaNPa2vWWqdbXFs9xU3jCDgAAAAAyorADAAAAgIwo7AAAAAAgIwo7AAAAAMiIwg4AAAAAMqKwAwAAAICMKOwAAAAAICMKOwAAAADIiMIOAAAAADKisAMAAACAjCjsAAAAACAjCjsAAAAAyIjCDgAAAAAyorADAAAAgIwo7AAAAAAgIwo7AAAAAMiIwg4AAAAAMqKwAwAAAICMKOwAAAAAICMKOwAAAADIiMIOAAAAADKisAMAAACAjCjsAAAAACAjCjsAAAAAyIjCDgAAAAAyorADAAAAgIwo7AAAAAAgIwo7AAAAAMiIwg4AAAAAMqKwAwAAAICMKOwAAAAAICMKOwAAAADIiMIOAAAAADKisAMAAACAjCjsAAAAACAjCjsAAAAAyIjCDgAAAAAyorADAAAAgIwo7AAAAAAgIwo7AAAAAMiIwg4AAAAAMqKwAwAAAICMKOwAAAAAICMKOwAAAADISElKKTVlw7q3hrb2LC1q2vBxxR6hYLtrthR7hII8uvGlYo9QsA5HrSv2CPVkqvXJVOvLJVPy1PrkqfXlkqcImfosPLzm98UeoSBT+pUXe4SCPVb3q2KPEBHy9FmQp9aXS54iZOqzIFOtrymZ8oQdAAAAAGREYQcAAAAAGVHYAQAAAEBGFHYAAAAAkBGFHQAAAABkRGEHAAAAABlR2AEAAABARhR2AAAAAJARhR0AAAAAZERhBwAAAAAZUdgBAAAAQEYUdgAAAACQEYUdAAAAAGREYQcAAAAAGVHYAQAAAEBGFHYAAAAAkBGFHQAAAABkRGEHAAAAABlR2AEAAABARhR2AAAAAJARhR0AAAAAZERhBwAAAAAZUdgBAAAAQEYUdgAAAACQEYUdAAAAAGREYQcAAAAAGVHYAQAAAEBGFHYAAAAAkBGFHQAAAABkRGEHAAAAABlR2AEAAABARhR2AAAAAJARhR0AAAAAZERhBwAAAAAZUdgBAAAAQEYUdgAAAACQEYUdAAAAAGREYQcAAAAAGVHYAQAAAEBGFHYAAAAAkBGFHQAAAABkRGEHAAAAABlR2AEAAABARjo1dcNpw8e15hwt7uE1vy/2CAVra+d4Sr/yYo9QsMfqij3BR9ra9Zap1idTzdfWrnVbzFNbI08HRqZaX1s7xxFbij1Am9XWrrU8fRbk6UC0testU63v0Y1t7xw3hSfsAAAAACAjCjsAAAAAyIjCDgAAAAAyorADAAAAgIwo7AAAAAAgIwo7AAAAAMiIwg4AAAAAMqKwAwAAAICMKOwAAAAAICMKOwAAAADIiMIOAAAAADKisAMAAACAjCjsAAAAACAjCjsAAAAAyIjCDgAAAAAyorADAAAAgIwo7AAAAAAgIwo7AAAAAMiIwg4AAAAAMqKwAwAAAICMKOwAAAAAICMKOwAAAADIiMIOAAAAADKisAMAAACAjCjsAAAAACAjCjsAAAAAyIjCDgAAAAAyorADAAAAgIwo7AAAAAAgIwo7AAAAAMiIwg4AAAAAMqKwAwAAAICMKOwAAAAAICMKOwAAAADIiMIOAAAAADKisAMAAACAjCjsAAAAACAjCjsAAAAAyIjCDgAAAAAyorADAAAAgIwo7AAAAAAgIwo7AAAAAMiIwg4AAAAAMqKwAwAAAICMlKSUUrGHAAAAAAD28IQdAAAAAGREYQcAAAAAGVHYAQAAAEBGFHYAAAAAkBGFHQAAAABkRGEHAAAAABlR2AEAAABARhR2AAAAAJARhR0AAAAAZOT/AcHNj9JI6tM2AAAAAElFTkSuQmCC",
      "text/plain": [
       "<Figure size 1600x900 with 12 Axes>"
      ]
     },
     "metadata": {},
     "output_type": "display_data"
    }
   ],
>>>>>>> 115f6870b0b82ee7a51fc438254ed682486e7045
   "source": [
    "def main():\n",
    "    number_of_queens, number_of_boards = MOCK_INPUT\n",
    "    generated_boards = tabuleiro(number_of_queens, number_of_boards)\n",
    "\n",
    "    board = choice(generated_boards)\n",
    "    neighbors = todos_vizinhos(board)\n",
    "    #vizualiza_todos_vizinhos(neighbors)\n",
    "\n",
    "    # board.queens_generator()\n",
    "    # board.queens_attacks()\n",
    "    # neighbors = board.all_neighbors()\n",
    "\n",
    "\n",
    "if __name__ == \"__main__\":\n",
    "    main()\n"
   ]
  },
  {
   "cell_type": "code",
<<<<<<< HEAD
   "execution_count": 13,
=======
   "execution_count": 235,
>>>>>>> 115f6870b0b82ee7a51fc438254ed682486e7045
   "metadata": {},
   "outputs": [],
   "source": [
    "# Testando a busca do melhor valor heuristico\n",
    "number_of_queens, number_of_boards = MOCK_INPUT\n",
    "generated_boards = tabuleiro(number_of_queens, number_of_boards)\n",
    "\n",
    "board = choice(generated_boards)\n",
    "\n",
    "neighbors = todos_vizinhos(board)\n",
    "\n",
    "# More Pythonic way to write this?\n",
    "for board in neighbors:\n",
    "    board.queens_attacks()\n",
    "\n",
    "best_board = max(neighbors, key=lambda board: board.heuristic_value)\n",
    "best_heuristic_value = best_board.heuristic_value\n",
    "\n",
    "get_best_heuristic = lambda board: board.heuristic_value == best_heuristic_value\n",
    "best_neighbors = list(filter(get_best_heuristic, neighbors))\n",
    "the_best_neighbor = choice(best_neighbors)\n"
   ]
  },
  {
   "cell_type": "code",
<<<<<<< HEAD
   "execution_count": 14,
   "metadata": {},
   "outputs": [
    {
     "data": {
      "text/plain": [
       "-1"
      ]
     },
     "execution_count": 14,
     "metadata": {},
     "output_type": "execute_result"
=======
   "execution_count": 236,
   "metadata": {},
   "outputs": [
    {
     "name": "stdout",
     "output_type": "stream",
     "text": [
      "Initial best heuristic value: -1\n",
      "Final best board: \n",
      "Heuristic: -1\n",
      "[[ 0.  1. 22.  1.]\n",
      " [22.  0.  1.  0.]\n",
      " [ 0.  1.  0.  0.]\n",
      " [ 1. 22.  1. 22.]]\n",
      "\n"
     ]
>>>>>>> 115f6870b0b82ee7a51fc438254ed682486e7045
    }
   ],
   "source": [
    "# Hill Climb's best choice\n",
    "\n",
    "number_of_queens, number_of_boards = MOCK_INPUT\n",
    "generated_boards = tabuleiro(number_of_queens, number_of_boards)\n",
    "\n",
    "board = choice(generated_boards)\n",
    "board.queens_attacks()\n",
    "\n",
    "SAME_BOARD = copy(board)\n",
    "\n",
    "def hill_climbing_best_choice(board: Board) -> Board:\n",
    "    \n",
    "    best_heuristic_value = board.heuristic_value\n",
    "    #print(f\"Initial best heuristic value: {best_heuristic_value}\")\n",
    "\n",
    "    total_searchs = 0\n",
    "\n",
    "    while True:\n",
    "        total_searchs += 1\n",
    "        neighbors = todos_vizinhos(board)\n",
    "\n",
    "    # Calculating the number of attacks in each board to generate each heuristic value\n",
    "        for board in neighbors:\n",
    "            board.queens_attacks()\n",
    "\n",
    "        best_board = max(neighbors, key= lambda board: board.heuristic_value)\n",
    "        new_heuristic_value = best_board.heuristic_value\n",
    "\n",
    "        if new_heuristic_value <= best_heuristic_value:\n",
    "            break\n",
    "\n",
    "        best_heuristic_value = new_heuristic_value\n",
    "\n",
    "        get_best_heuristic = lambda board: board.heuristic_value == best_heuristic_value\n",
    "        best_neighbors = list(filter(get_best_heuristic, neighbors))\n",
    "        the_best_neighbor = choice(best_neighbors)\n",
    "\n",
    "        board = the_best_neighbor\n",
    "\n",
    "    # O ultimo valor instanciado em board indicia o tabuleiro com a primeira pior heurisitica que causou o break\n",
    "\n",
    "    #print(f\"Final best heuristic value: {best_heuristic_value} \\nIterations: {total_searchs}\")\n",
    "\n",
    "    return best_heuristic_value\n",
    "\n",
    "hill_climbing_best_choice(board)"
   ]
  },
  {
   "cell_type": "code",
<<<<<<< HEAD
   "execution_count": 15,
=======
   "execution_count": 237,
>>>>>>> 115f6870b0b82ee7a51fc438254ed682486e7045
   "metadata": {},
   "outputs": [
    {
     "name": "stdout",
     "output_type": "stream",
     "text": [
<<<<<<< HEAD
      "Initial best heuristic value: -9\n",
      "Final best heuristic value: -1 \n",
      "Iterations: 38\n"
=======
      "Initial best heuristic value: -1\n",
      "Final best heuristic board: \n",
      "Heuristic: -1\n",
      "[[22.  1. 22.  1.]\n",
      " [ 1.  0.  1.  0.]\n",
      " [ 0.  1.  0. 22.]\n",
      " [ 1. 22.  1.  0.]]\n",
      "\n"
>>>>>>> 115f6870b0b82ee7a51fc438254ed682486e7045
     ]
    }
   ],
   "source": [
    "# Hill Climb's first choice\n",
    "\n",
    "# Nessa versao o melhor vizinho pode ser eventualmente encontrado, \n",
    "# porem sem o beneficio da analise previa de todos os vizinhos\n",
    "\n",
    "def hill_climbing_first_choice(board: Board) -> Board:\n",
    "    \n",
    "    best_heuristic_value = board.heuristic_value\n",
    "    print(f\"Initial best heuristic value: {best_heuristic_value}\")\n",
    "\n",
    "    searchs, total_searchs = 0, 0\n",
    "    search_range = 5 * board.first_coordinate\n",
    "\n",
    "    while searchs != search_range:\n",
    "        total_searchs += 1\n",
    "        neighbor = um_vizinho(board)\n",
    "\n",
    "        # Calculating the number of attacks in the neighbor board to generate the heuristic value\n",
    "        neighbor.queens_attacks()\n",
    "\n",
    "        new_heuristic_value = neighbor.heuristic_value\n",
    "\n",
    "        if new_heuristic_value <= best_heuristic_value:\n",
    "            searchs += 1\n",
    "            continue\n",
    "\n",
    "        best_heuristic_value = new_heuristic_value\n",
    "        board = neighbor\n",
    "\n",
    "        searchs = 0\n",
    "\n",
    "    print(f\"Final best heuristic value: {best_heuristic_value} \\nIterations: {total_searchs}\")\n",
    "\n",
    "hill_climbing_first_choice(SAME_BOARD)"
   ]
  },
  {
   "cell_type": "markdown",
   "metadata": {},
   "source": [
    "### Calculo do tempo de busca da solucao com hill_climbing_best_choice"
   ]
  },
  {
   "cell_type": "code",
   "execution_count": 56,
   "metadata": {},
   "outputs": [],
   "source": [
    "EXECUTIONS = 10\n",
    "total_time = 0\n",
    "\n",
    "for i in range(EXECUTIONS):\n",
    "    while True:\n",
    "        number_of_queens, number_of_boards = MOCK_INPUT\n",
    "        generated_boards = tabuleiro(number_of_queens, number_of_boards)\n",
    "\n",
    "        board = choice(generated_boards)\n",
    "        board.queens_attacks()\n",
    "        \n",
    "        start_time = time.time()\n",
    "\n",
    "        result = hill_climbing_best_choice(board)\n",
    "\n",
    "        end_time = time.time()\n",
    "\n",
    "        total_time += (end_time - start_time) \n",
    "\n",
    "        if result == 0:\n",
    "            break\n",
    "\n",
    "print(f\"Tempo medio para {EXECUTIONS} execucoes: {total_time / EXECUTIONS}\")"
   ]
  },
  {
   "cell_type": "markdown",
   "metadata": {},
   "source": [
    "### Geração do gráfico para única execução do hill_climbing_best_choice"
   ]
  },
  {
   "cell_type": "code",
   "execution_count": 55,
   "metadata": {},
   "outputs": [
    {
     "data": {
      "text/plain": [
       "[<matplotlib.lines.Line2D at 0x1e2ca82b550>]"
      ]
     },
     "metadata": {},
     "output_type": "display_data"
    },
    {
     "data": {
      "image/png": "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",
      "text/plain": [
       "<Figure size 432x288 with 1 Axes>"
      ]
     },
     "metadata": {
      "needs_background": "light"
     },
     "output_type": "display_data"
    }
   ],
   "source": [
    "# Hill Climb's best choice\n",
    "\n",
    "number_of_queens, number_of_boards = MOCK_INPUT\n",
    "generated_boards = tabuleiro(number_of_queens, number_of_boards)\n",
    "\n",
    "board = choice(generated_boards)\n",
    "board.queens_attacks()\n",
    "\n",
    "def hill_climbing_best_choice(board: Board) -> Board:\n",
    "    \n",
    "    best_heuristic_value = board.heuristic_value\n",
    "    total_searchs = 0\n",
    "    heuristic_values = [best_heuristic_value]\n",
    "\n",
    "    while True:\n",
    "        total_searchs += 1\n",
    "        neighbors = todos_vizinhos(board)\n",
    "\n",
    "    # Calculating the number of attacks in each board to generate each heuristic value\n",
    "        for board in neighbors:\n",
    "            board.queens_attacks()\n",
    "\n",
    "        best_board = max(neighbors, key= lambda board: board.heuristic_value)\n",
    "        new_heuristic_value = best_board.heuristic_value\n",
    "        heuristic_values.append(new_heuristic_value)\n",
    "\n",
    "        if new_heuristic_value <= best_heuristic_value:\n",
    "            break\n",
    "\n",
    "        best_heuristic_value = new_heuristic_value\n",
    "\n",
    "        get_best_heuristic = lambda board: board.heuristic_value == best_heuristic_value\n",
    "        best_neighbors = list(filter(get_best_heuristic, neighbors))\n",
    "        the_best_neighbor = choice(best_neighbors)\n",
    "\n",
    "        board = the_best_neighbor\n",
    "\n",
    "    return heuristic_values\n",
    "\n",
    "evolution_of_values = hill_climbing_best_choice(board)\n",
    "iterations = [i+1 for i in range(len(evolution_of_values))]\n",
    "\n",
    "plt.xlabel('Iteracoes')\n",
    "plt.ylabel('Valores de Heuristica')\n",
    "display(plt.plot(iterations, evolution_of_values, 'ro'))\n"
   ]
  },
  {
   "cell_type": "markdown",
   "metadata": {},
   "source": [
    "### Calculo do tempo de busca da solucao com hill_climbing_first_choice"
   ]
  },
  {
   "cell_type": "code",
   "execution_count": null,
   "metadata": {},
   "outputs": [],
   "source": [
    "# Calculo do tempo de busca da solucao com first_choice\n",
    "\n",
    "while True:\n",
    "    number_of_queens, number_of_boards = MOCK_INPUT\n",
    "    generated_boards = tabuleiro(number_of_queens, number_of_boards)\n",
    "\n",
    "    board = choice(generated_boards)\n",
    "    board.queens_attacks()\n",
    "\n",
    "    result = hill_climbing_first_choice(board)\n",
    "\n",
    "    if result == 0:\n",
    "        break\n"
   ]
  },
  {
   "cell_type": "markdown",
   "metadata": {},
   "source": [
    "### OBS: GERAR UMA FUNCAO NUMEROATAQUES QUE CHAMA QUEENS_ATACKS"
   ]
  }
 ],
 "metadata": {
  "kernelspec": {
   "display_name": "Python 3.10.0 64-bit",
   "language": "python",
   "name": "python3"
  },
  "language_info": {
   "codemirror_mode": {
    "name": "ipython",
    "version": 3
   },
   "file_extension": ".py",
   "mimetype": "text/x-python",
   "name": "python",
   "nbconvert_exporter": "python",
   "pygments_lexer": "ipython3",
   "version": "3.10.0"
  },
  "orig_nbformat": 4,
  "vscode": {
   "interpreter": {
    "hash": "0f2f6c680cf484319d387fabac80ca4ff4fc33965036e02100b3fe02600f1423"
   }
  }
 },
 "nbformat": 4,
 "nbformat_minor": 2
}
