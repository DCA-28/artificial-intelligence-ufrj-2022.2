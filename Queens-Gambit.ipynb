{
 "cells": [
  {
   "cell_type": "code",
   "execution_count": 47,
   "metadata": {},
   "outputs": [
    {
     "name": "stdout",
     "output_type": "stream",
     "text": [
      "[[1 1]\n",
      " [1 3]\n",
      " [3 0]\n",
      " [3 2]]\n"
     ]
    },
    {
     "data": {
      "image/png": "[encoded data removed]",
      "text/plain": [
       "<Figure size 432x288 with 1 Axes>"
      ]
     },
     "metadata": {
      "needs_background": "light"
     },
     "output_type": "display_data"
    }
   ],
   "source": [
    "import numpy as np\n",
    "import matplotlib.pyplot as plt\n",
    "from random import randint\n",
    "from typing import Tuple\n",
    "\n",
    "QUEEN_INDENTIFIER = 22\n",
    "\n",
    "# def horizontal_attack(board: np.array, initial_position: Tuple[int, int]) -> int:\n",
    "#     \"\"\"\n",
    "#     Walk horizontally throught the board, trying to find another queens.\n",
    "#     \"\"\"\n",
    "#     horizontal_finds = 0\n",
    "#     row = initial_position[0]\n",
    "#     column = initial_position[1]\n",
    "\n",
    "#     while True:\n",
    "#         try:\n",
    "#             next_side_square = board[row, column + 1]\n",
    "#             if next_side_square == QUEEN_INDENTIFIER:\n",
    "#                 horizontal_finds += 1\n",
    "#         except:\n",
    "#             return horizontal_finds\n",
    "\n",
    "\n",
    "# self.game_board = builder // parece fazer mais sentido que a classe gere automaticamente o seu tabuleiro\n",
    "\n",
    "class Board():\n",
    "    def __init__(self, N: int) -> None:\n",
    "        self.first_coordinate = N\n",
    "        self.second_coordinate = N\n",
    "        self.game_board = None\n",
    "\n",
    "    def builder(self) -> np.array:\n",
    "        self.game_board = np.zeros((self.first_coordinate, self.second_coordinate))\n",
    "        self.game_board[1::2, 0::2] = 1\n",
    "        self.game_board[0::2, 1::2] = 1\n",
    "        \n",
    "        return self.game_board\n",
    "\n",
    "    def queens_generator(self, board: np.array) -> np.array:\n",
    "        for j in range(len(board)):\n",
    "            queens_row = randint(0, len(board) - 1)\n",
    "            queens_column = j\n",
    "            board[queens_row, queens_column] = QUEEN_INDENTIFIER # this integer number gives the distinct color\n",
    "\n",
    "        plt.imshow(board, cmap='binary')\n",
    "        print(np.argwhere(board == QUEEN_INDENTIFIER))\n",
    "        \"\"\" Uma simples aritmetica com o resultado de argwhere ja nos nada o resultado das rainhas que sao encontradas por determinada rainha.\n",
    "            Podemos por exemplo olhar sempre para a próxima rainha e ver se ela se encaixa em 1 de 3 casos em relação a rainha base: estar na\n",
    "            mesma linha, estar na diagonal superior ou estar na diagonal inferior. Para a diagonal seria interessante ver se a diferenca de\n",
    "            coordenadas em x e y eh igual, ou seja, subiu (ou desceu) 2 e 2 em relacao a posicao inical.\"\"\"\n",
    "\n",
    "        return board\n",
    "\n",
    "    def queens_attacks(self, board: np.array) -> int:\n",
    "        pass\n",
    "            \n",
    "def main():\n",
    "    sizes = [int(element) for element in input(\"Enter the board's size: \").split()]\n",
    "    board = Board(sizes[0])\n",
    "    game_board = board.builder()\n",
    "\n",
    "    boards = []\n",
    "\n",
    "    for _ in range(1):\n",
    "        board_with_queens = board.queens_generator(game_board)\n",
    "        boards.append(board_with_queens)\n",
    "    \n",
    "\n",
    "if __name__ == '__main__':\n",
    "    main()"
   ]
  },
  {
   "cell_type": "code",
   "execution_count": 45,
   "metadata": {},
   "outputs": [
    {
     "name": "stdout",
     "output_type": "stream",
     "text": [
      "[[ 0  1  2  3  4]\n",
      " [ 5  6  7  8  9]\n",
      " [10 11 12 13 14]]\n",
      "[0, 0]\n",
      "[2, 0]\n",
      "[1, 1]\n",
      "[0, 2]\n",
      "[2, 2]\n",
      "[1, 3]\n",
      "[0, 4]\n",
      "[2, 4]\n"
     ]
    }
   ],
   "source": [
    "x = np.arange(15)\n",
    "x.shape = (3,5)\n",
    "\n",
    "print(x)\n",
    "\n",
    "column = x[:,3]\n",
    "\n",
    "arr = np.argwhere(x % 2 == 0).tolist()\n",
    "arr = sorted(arr, key=lambda element: element[1])\n",
    "\n",
    "for n in arr:\n",
    "    print(n)"
   ]
  }
 ],
 "metadata": {
  "kernelspec": {
   "display_name": "Python 3.10.0 64-bit",
   "language": "python",
   "name": "python3"
  },
  "language_info": {
   "codemirror_mode": {
    "name": "ipython",
    "version": 3
   },
   "file_extension": ".py",
   "mimetype": "text/x-python",
   "name": "python",
   "nbconvert_exporter": "python",
   "pygments_lexer": "ipython3",
   "version": "3.10.0"
  },
  "orig_nbformat": 4,
  "vscode": {
   "interpreter": {
    "hash": "0f2f6c680cf484319d387fabac80ca4ff4fc33965036e02100b3fe02600f1423"
   }
  }
 },
 "nbformat": 4,
 "nbformat_minor": 2
}
